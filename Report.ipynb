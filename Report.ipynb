{
 "cells": [
  {
   "cell_type": "markdown",
   "metadata": {},
   "source": [
    "--Introduction/Business Problem--"
   ]
  },
  {
   "cell_type": "markdown",
   "metadata": {},
   "source": [
    "Today we are going to discover the best locations in Toronto to open up a new coffee shop. This information will help any young entrepreneur figure out where exactly the best spots are to target opening up a new coffee shop. When finding a good location, it's important to keep in mind where your competition is and what areas your target market will be attracted to. So what we're going to do is discover where the locations of venues that would host people who would want to drink coffee more often than others and find out what neighborhoods host the highest balance of these locations to coffee shops that already exist around those parts. Some of these locations will include schools, colleges, libraries, office buildings, and malls. We will use K Clustering to group neighborhoods as either a risk neighborhood, a possible neighborhood, or a great neighborhood."
   ]
  },
  {
   "cell_type": "markdown",
   "metadata": {},
   "source": [
    "-- Data--"
   ]
  },
  {
   "cell_type": "markdown",
   "metadata": {},
   "source": [
    "For this project, we'll simply be using Foursquare to figure out which areas have the highest concentration of desired locations and which areas have the highest concentration of competitors. We'll be able to use the number of good venues that host people who wanna drink coffee, the number of venues that represent competition, and the ratio of these two numbers within a certain radius for each neighborhood in order to cluster Toronto up accordingly. This way, we'll be able to see what kinds locations are within a walking distance to each neighborhood, and whether or not they would be supportive of a new coffee shop business."
   ]
  },
  {
   "cell_type": "code",
   "execution_count": null,
   "metadata": {},
   "outputs": [],
   "source": []
  }
 ],
 "metadata": {
  "kernelspec": {
   "display_name": "Python 3",
   "language": "python",
   "name": "python3"
  },
  "language_info": {
   "codemirror_mode": {
    "name": "ipython",
    "version": 3
   },
   "file_extension": ".py",
   "mimetype": "text/x-python",
   "name": "python",
   "nbconvert_exporter": "python",
   "pygments_lexer": "ipython3",
   "version": "3.7.4"
  }
 },
 "nbformat": 4,
 "nbformat_minor": 2
}
